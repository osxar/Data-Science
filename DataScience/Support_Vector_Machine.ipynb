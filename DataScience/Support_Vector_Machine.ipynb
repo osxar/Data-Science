{
 "cells": [
  {
   "cell_type": "markdown",
   "metadata": {},
   "source": [
    "# SUPPORT VECTOR MACHINE (SVM)"
   ]
  },
  {
   "cell_type": "markdown",
   "metadata": {},
   "source": [
    "Train an SVM classifier on the MNIST dataset. Since SVM classifiers are binary\n",
    "classifiers, you will need to use one-versus-the-rest to classify all 10 digits. You\n",
    "may want to tune the hyperparameters using small validation sets to speed up the\n",
    "process. What accuracy can you reach?\n",
    "\n",
    "NB: This exercise was gotten from \"Hands on Machine Learning by Aurelien Geron\" (Chapter 5)"
   ]
  },
  {
   "cell_type": "code",
   "execution_count": 1,
   "metadata": {},
   "outputs": [],
   "source": [
    "import matplotlib as mpl\n",
    "import matplotlib.pyplot as plt\n",
    "from sklearn.datasets import fetch_openml\n",
    "from sklearn.model_selection import train_test_split\n",
    "from sklearn.preprocessing import StandardScaler\n",
    "from sklearn.model_selection import GridSearchCV\n",
    "from sklearn import svm\n",
    "from sklearn.metrics import confusion_matrix, precision_score, recall_score,f1_score,accuracy_score"
   ]
  },
  {
   "cell_type": "code",
   "execution_count": 2,
   "metadata": {},
   "outputs": [
    {
     "data": {
      "text/plain": [
       "dict_keys(['data', 'target', 'feature_names', 'DESCR', 'details', 'categories', 'url'])"
      ]
     },
     "execution_count": 2,
     "metadata": {},
     "output_type": "execute_result"
    }
   ],
   "source": [
    "# Import MNIST data\n",
    "mnist = fetch_openml('mnist_784', version=1)\n",
    "mnist.keys()"
   ]
  },
  {
   "cell_type": "code",
   "execution_count": 3,
   "metadata": {},
   "outputs": [],
   "source": [
    "# Seperate the labels and target using the keys\n",
    "x_data , y_target = mnist['data'] , mnist['target']"
   ]
  },
  {
   "cell_type": "code",
   "execution_count": 4,
   "metadata": {},
   "outputs": [
    {
     "data": {
      "text/plain": [
       "(70000, 784)"
      ]
     },
     "execution_count": 4,
     "metadata": {},
     "output_type": "execute_result"
    }
   ],
   "source": [
    "#determine the shape of x_data\n",
    "x_data.shape"
   ]
  },
  {
   "cell_type": "code",
   "execution_count": 5,
   "metadata": {},
   "outputs": [
    {
     "data": {
      "text/plain": [
       "(70000,)"
      ]
     },
     "execution_count": 5,
     "metadata": {},
     "output_type": "execute_result"
    }
   ],
   "source": [
    "#determine the shape of y_target\n",
    "y_target.shape"
   ]
  },
  {
   "cell_type": "code",
   "execution_count": 6,
   "metadata": {},
   "outputs": [
    {
     "data": {
      "image/png": "[encoded data removed]",
      "text/plain": [
       "<Figure size 432x288 with 1 Axes>"
      ]
     },
     "metadata": {
      "needs_background": "light"
     },
     "output_type": "display_data"
    }
   ],
   "source": [
    "# The Images in this dataset has 784 features (28x28 pixels)\n",
    "# We can visuaize an image, by reshaping\n",
    "sample_digit = x_data[7]\n",
    "sample_image = sample_digit.reshape(28,28)\n",
    "\n",
    "plt.imshow(sample_image, cmap=\"binary\")\n",
    "plt.axis(\"off\")\n",
    "plt.show()"
   ]
  },
  {
   "cell_type": "code",
   "execution_count": 7,
   "metadata": {},
   "outputs": [],
   "source": [
    "# standardize the data\n",
    "scaler = StandardScaler()\n",
    "X_data = scaler.fit_transform(x_data)\n",
    "\n",
    "# Split the data into trian and test\n",
    "X_train, X_test, Y_train, Y_test = train_test_split(X_data, y_target, test_size=0.2, random_state=50)"
   ]
  },
  {
   "cell_type": "code",
   "execution_count": 8,
   "metadata": {},
   "outputs": [
    {
     "data": {
      "text/plain": [
       "GridSearchCV(cv=5, error_score='raise-deprecating',\n",
       "             estimator=SVC(C=1.0, cache_size=200, class_weight=None, coef0=0.0,\n",
       "                           decision_function_shape='ovr', degree=3,\n",
       "                           gamma='auto', kernel='rbf', max_iter=-1,\n",
       "                           probability=False, random_state=50, shrinking=True,\n",
       "                           tol=0.001, verbose=False),\n",
       "             iid='warn', n_jobs=None, param_grid=[{'C': [0.01, 0.1, 1, 10]}],\n",
       "             pre_dispatch='2*n_jobs', refit=True, return_train_score=False,\n",
       "             scoring=None, verbose=0)"
      ]
     },
     "execution_count": 8,
     "metadata": {},
     "output_type": "execute_result"
    }
   ],
   "source": [
    "# Tune SVM Hyperparmeters using Grid search\n",
    "param_grid = [\n",
    "    {\n",
    "        'C':[0.01,0.1,1,10]\n",
    "    }\n",
    "]\n",
    "\n",
    "model = svm.SVC(random_state=50,gamma='auto',kernel='rbf')\n",
    "\n",
    "grid_search = GridSearchCV(model, param_grid, cv=5, return_train_score=False) #scoring='accuracy', return_train_score=True\n",
    "\n",
    "grid_search.fit(X_train,Y_train)\n"
   ]
  },
  {
   "cell_type": "code",
   "execution_count": 9,
   "metadata": {},
   "outputs": [
    {
     "data": {
      "text/plain": [
       "{'C': 10}"
      ]
     },
     "execution_count": 9,
     "metadata": {},
     "output_type": "execute_result"
    }
   ],
   "source": [
    "grid_search.best_params_"
   ]
  },
  {
   "cell_type": "code",
   "execution_count": 10,
   "metadata": {},
   "outputs": [
    {
     "data": {
      "text/plain": [
       "0.9704464285714286"
      ]
     },
     "execution_count": 10,
     "metadata": {},
     "output_type": "execute_result"
    }
   ],
   "source": [
    "grid_search.best_score_"
   ]
  },
  {
   "cell_type": "code",
   "execution_count": 11,
   "metadata": {},
   "outputs": [
    {
     "data": {
      "text/plain": [
       "array([[1334,    1,    2,    1,    0,    2,    5,    4,    3,    2],\n",
       "       [   0, 1527,    7,    0,    1,    0,    1,    5,    4,    2],\n",
       "       [   1,    1, 1365,    7,    5,    0,    3,   12,   10,    1],\n",
       "       [   1,    0,    9, 1444,    2,    9,    0,   17,    9,    4],\n",
       "       [   3,    4,    7,    1, 1273,    2,    2,    7,    1,   10],\n",
       "       [   1,    0,    3,   16,    0, 1257,    5,   13,    2,    5],\n",
       "       [   4,    2,    5,    1,    1,    7, 1338,   14,    2,    0],\n",
       "       [   2,    9,    5,    0,    5,    1,    0, 1404,    0,    8],\n",
       "       [   4,    7,    8,    6,   10,    8,    3,    4, 1282,    2],\n",
       "       [   1,    3,    8,    6,   19,    4,    0,   20,    4, 1380]],\n",
       "      dtype=int64)"
      ]
     },
     "execution_count": 11,
     "metadata": {},
     "output_type": "execute_result"
    }
   ],
   "source": [
    "# Predict the test data\n",
    "final_model = grid_search.best_estimator_\n",
    "y_pred = final_model.predict(X_test)\n",
    "\n",
    "# Compute the confusion matrix\n",
    "confusion_matrix(Y_test,y_pred)"
   ]
  },
  {
   "cell_type": "code",
   "execution_count": 14,
   "metadata": {},
   "outputs": [
    {
     "name": "stdout",
     "output_type": "stream",
     "text": [
      "Precision:  0.971946776365907\n",
      "Recall:  0.9715826168816623\n",
      "F1_score:  0.9716896835460626\n",
      "Accuracy:  0.9717142857142858\n"
     ]
    }
   ],
   "source": [
    "# Compute Precision, Recall, F1 score and accuracy\n",
    "precision = precision_score(Y_test,y_pred,average='macro')\n",
    "recall = recall_score(Y_test,y_pred,average='macro')\n",
    "F1_score = f1_score(Y_test,y_pred,average='macro')\n",
    "accuracy = accuracy_score(Y_test,y_pred)\n",
    "\n",
    "print('Precision: ',precision)\n",
    "print('Recall: ',recall)\n",
    "print('F1_score: ',F1_score)\n",
    "print('Accuracy: ',accuracy)"
   ]
  },
  {
   "cell_type": "code",
   "execution_count": null,
   "metadata": {},
   "outputs": [],
   "source": []
  }
 ],
 "metadata": {
  "kernelspec": {
   "display_name": "Python 3",
   "language": "python",
   "name": "python3"
  },
  "language_info": {
   "codemirror_mode": {
    "name": "ipython",
    "version": 3
   },
   "file_extension": ".py",
   "mimetype": "text/x-python",
   "name": "python",
   "nbconvert_exporter": "python",
   "pygments_lexer": "ipython3",
   "version": "3.7.4"
  }
 },
 "nbformat": 4,
 "nbformat_minor": 2
}
